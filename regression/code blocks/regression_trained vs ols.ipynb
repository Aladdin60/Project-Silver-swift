{
  "nbformat": 4,
  "nbformat_minor": 0,
  "metadata": {
    "colab": {
      "provenance": []
    },
    "kernelspec": {
      "name": "python3",
      "display_name": "Python 3"
    },
    "language_info": {
      "name": "python"
    }
  },
  "cells": [
    {
      "cell_type": "code",
      "execution_count": null,
      "metadata": {
        "colab": {
          "base_uri": "https://localhost:8080/"
        },
        "id": "YGkQBG8bFuo-",
        "outputId": "d6106924-00cd-48c7-e3c9-1119fd6af55a"
      },
      "outputs": [
        {
          "output_type": "stream",
          "name": "stdout",
          "text": [
            "Mean Squared Error: 2885.707324840247\n",
            "R-squared: 0.6691105492987601\n",
            "                            OLS Regression Results                            \n",
            "==============================================================================\n",
            "Dep. Variable:           Op Cash Flow   R-squared:                       0.816\n",
            "Model:                            OLS   Adj. R-squared:                  0.799\n",
            "Method:                 Least Squares   F-statistic:                     47.45\n",
            "Date:                Sat, 18 May 2024   Prob (F-statistic):           6.97e-12\n",
            "Time:                        10:24:08   Log-Likelihood:                -183.43\n",
            "No. Observations:                  36   AIC:                             374.9\n",
            "Df Residuals:                      32   BIC:                             381.2\n",
            "Df Model:                           3                                         \n",
            "Covariance Type:            nonrobust                                         \n",
            "==============================================================================\n",
            "                 coef    std err          t      P>|t|      [0.025      0.975]\n",
            "------------------------------------------------------------------------------\n",
            "const         -4.5019     26.856     -0.168      0.868     -59.206      50.202\n",
            "Income         0.4658      0.226      2.063      0.047       0.006       0.926\n",
            "EBIT           0.7508      0.246      3.053      0.005       0.250       1.252\n",
            "Sales         -0.6719      0.057    -11.776      0.000      -0.788      -0.556\n",
            "==============================================================================\n",
            "Omnibus:                        1.502   Durbin-Watson:                   2.307\n",
            "Prob(Omnibus):                  0.472   Jarque-Bera (JB):                0.648\n",
            "Skew:                          -0.266   Prob(JB):                        0.723\n",
            "Kurtosis:                       3.385   Cond. No.                     4.61e+03\n",
            "==============================================================================\n",
            "\n",
            "Notes:\n",
            "[1] Standard Errors assume that the covariance matrix of the errors is correctly specified.\n",
            "[2] The condition number is large, 4.61e+03. This might indicate that there are\n",
            "strong multicollinearity or other numerical problems.\n"
          ]
        }
      ],
      "source": [
        "import pandas as pd\n",
        "import matplotlib.pyplot as plt\n",
        "from sklearn.model_selection import train_test_split\n",
        "from sklearn.linear_model import LinearRegression\n",
        "from sklearn.metrics import mean_squared_error, r2_score\n",
        "import numpy as np\n",
        "import statsmodels.api as sm\n",
        "\n",
        "# Define the dataset\n",
        "df = pd.read_csv(\"reg.csv\")\n",
        "\n",
        "# Let's assume 'Income', 'EBIT', and 'Sales' are the independent variables,\n",
        "# and 'Op Cash Flow' is the dependent variable we want to forecast\n",
        "X = df[['Income', 'EBIT', 'Sales']]\n",
        "y = df['Op Cash Flow']\n",
        "\n",
        "# Add a constant term to the independent variables matrix\n",
        "X = sm.add_constant(X)\n",
        "\n",
        "# Split the data into training and testing sets\n",
        "X_train, X_test, y_train, y_test = train_test_split(X, y, test_size=0.2, random_state=42)\n",
        "\n",
        "# Create and fit the linear regression model using StatsModels\n",
        "model = sm.OLS(y_train, X_train)\n",
        "results = model.fit()\n",
        "\n",
        "# Make predictions on the testing set\n",
        "predictions = results.predict(X_test)\n",
        "\n",
        "# Evaluate the model\n",
        "mse = mean_squared_error(y_test, predictions)\n",
        "r2 = r2_score(y_test, predictions)\n",
        "print(\"Mean Squared Error:\", mse)\n",
        "print(\"R-squared:\", r2)\n",
        "\n",
        "# Print the summary of the regression results\n",
        "print(results.summary())\n",
        "\n",
        "\n",
        "\n"
      ]
    },
    {
      "cell_type": "code",
      "source": [
        "\n",
        "import pandas as pd\n",
        "import statsmodels.api as sm\n",
        "from statsmodels.stats.api import anova_lm\n",
        "\n",
        "\n",
        "# Define the dataset\n",
        "df = pd.read_csv(\"reg.csv\")\n",
        "\n",
        "# Let's assume 'Income', 'EBIT', and 'Sales' are the independent variables,\n",
        "# and 'Op Cash Flow' is the dependent variable we want to forecast\n",
        "X = df[['Income', 'EBIT', 'Sales']]\n",
        "y = df['Op Cash Flow']\n",
        "\n",
        "# Add a constant term to the independent variables matrix\n",
        "X = sm.add_constant(X)\n",
        "\n",
        "# Create and fit the linear regression model using StatsModels\n",
        "model = sm.OLS(y, X)\n",
        "results = model.fit()\n",
        "\n",
        "# Print the summary of the model\n",
        "print(results.summary())\n",
        "\n",
        "\n"
      ],
      "metadata": {
        "colab": {
          "base_uri": "https://localhost:8080/"
        },
        "id": "PLtEg1S7Nppa",
        "outputId": "069e2c0d-e7cc-493e-e03d-f703b2284880"
      },
      "execution_count": null,
      "outputs": [
        {
          "output_type": "stream",
          "name": "stdout",
          "text": [
            "                            OLS Regression Results                            \n",
            "==============================================================================\n",
            "Dep. Variable:           Op Cash Flow   R-squared:                       0.836\n",
            "Model:                            OLS   Adj. R-squared:                  0.824\n",
            "Method:                 Least Squares   F-statistic:                     69.65\n",
            "Date:                Sat, 18 May 2024   Prob (F-statistic):           3.84e-16\n",
            "Time:                        10:21:54   Log-Likelihood:                -230.08\n",
            "No. Observations:                  45   AIC:                             468.2\n",
            "Df Residuals:                      41   BIC:                             475.4\n",
            "Df Model:                           3                                         \n",
            "Covariance Type:            nonrobust                                         \n",
            "==============================================================================\n",
            "                 coef    std err          t      P>|t|      [0.025      0.975]\n",
            "------------------------------------------------------------------------------\n",
            "const        -10.8168     24.864     -0.435      0.666     -61.030      39.397\n",
            "Income         0.3848      0.201      1.915      0.062      -0.021       0.791\n",
            "EBIT           0.9196      0.219      4.202      0.000       0.478       1.362\n",
            "Sales         -0.6973      0.051    -13.737      0.000      -0.800      -0.595\n",
            "==============================================================================\n",
            "Omnibus:                        0.555   Durbin-Watson:                   2.183\n",
            "Prob(Omnibus):                  0.758   Jarque-Bera (JB):                0.124\n",
            "Skew:                           0.101   Prob(JB):                        0.940\n",
            "Kurtosis:                       3.159   Cond. No.                     5.08e+03\n",
            "==============================================================================\n",
            "\n",
            "Notes:\n",
            "[1] Standard Errors assume that the covariance matrix of the errors is correctly specified.\n",
            "[2] The condition number is large, 5.08e+03. This might indicate that there are\n",
            "strong multicollinearity or other numerical problems.\n"
          ]
        }
      ]
    }
  ]
}
