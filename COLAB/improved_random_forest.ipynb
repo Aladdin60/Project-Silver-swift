{
  "nbformat": 4,
  "nbformat_minor": 0,
  "metadata": {
    "colab": {
      "provenance": [],
      "authorship_tag": "ABX9TyPcpWooUhIJZ/CkD5RjI4ND",
      "include_colab_link": true
    },
    "kernelspec": {
      "name": "python3",
      "display_name": "Python 3"
    },
    "language_info": {
      "name": "python"
    }
  },
  "cells": [
    {
      "cell_type": "markdown",
      "metadata": {
        "id": "view-in-github",
        "colab_type": "text"
      },
      "source": [
        "<a href=\"https://colab.research.google.com/github/Aladdin60/Project-Silver-swift/blob/main/COLAB/improved_random_forest.ipynb\" target=\"_parent\"><img src=\"https://colab.research.google.com/assets/colab-badge.svg\" alt=\"Open In Colab\"/></a>"
      ]
    },
    {
      "cell_type": "code",
      "execution_count": null,
      "metadata": {
        "id": "SPH-ThwU0ZVn"
      },
      "outputs": [],
      "source": [
        "import pandas as pd\n",
        "import numpy as np\n",
        "import matplotlib.pyplot as plt\n",
        "from sklearn.model_selection import train_test_split, RandomizedSearchCV\n",
        "from sklearn.ensemble import RandomForestRegressor\n",
        "from sklearn.metrics import mean_absolute_error, mean_squared_error, r2_score\n",
        "from sklearn.preprocessing import StandardScaler\n",
        "from scipy.stats import randint as sp_randint\n",
        "\n",
        "# Load the data\n",
        "data = pd.read_csv('/content/cash_flow_data_ final.csv')\n",
        "\n",
        "# Define features and target\n",
        "features = ['Revenue/Sales', 'Total Income', 'Tax', 'Net Profit', 'Accounts Receivable',\n",
        "            'Accounts Payable', 'Total Expenditure', 'Interest', 'GDP Growth',\n",
        "            'Inflation/Interest Rate', 'Expenses', 'Cap. Expenditure', 'Seasonality',\n",
        "            'Client Payment Trends', 'EBIT']\n",
        "target = 'Cash Flow'\n",
        "\n",
        "# Split the data\n",
        "X = data[features]\n",
        "y = data[target]\n",
        "X_train, X_test, y_train, y_test = train_test_split(X, y, test_size=0.2, random_state=42)\n",
        "\n",
        "# Feature Scaling\n",
        "scaler = StandardScaler()\n",
        "X_train_scaled = scaler.fit_transform(X_train)\n",
        "X_test_scaled = scaler.transform(X_test)\n",
        "\n",
        "# Define the model\n",
        "rf = RandomForestRegressor(random_state=42)\n",
        "\n",
        "# Define the parameter grid\n",
        "param_dist = {\n",
        "    'n_estimators': sp_randint(100, 1000),\n",
        "    'max_features': ['auto', 'sqrt', 'log2'],\n",
        "    'max_depth': [None] + list(np.arange(10, 110, 10)),\n",
        "    'min_samples_split': sp_randint(2, 20),\n",
        "    'min_samples_leaf': sp_randint(1, 20),\n",
        "    'bootstrap': [True, False]\n",
        "}\n",
        "\n",
        "# Randomized Search\n",
        "random_search = RandomizedSearchCV(rf, param_distributions=param_dist, n_iter=100, cv=3, verbose=2, random_state=42, n_jobs=-1)\n",
        "random_search.fit(X_train_scaled, y_train)\n",
        "\n",
        "# Best parameters from the search\n",
        "best_rf = random_search.best_estimator_\n",
        "\n",
        "# Train the best model\n",
        "best_rf.fit(X_train_scaled, y_train)\n",
        "y_pred_rf = best_rf.predict(X_test_scaled)\n",
        "\n",
        "# Evaluate the model\n",
        "mae_rf = mean_absolute_error(y_test, y_pred_rf)\n",
        "mse_rf = mean_squared_error(y_test, y_pred_rf)\n",
        "r2_rf = r2_score(y_test, y_pred_rf)\n",
        "print(f'Improved Random Forest MAE: {mae_rf}')\n",
        "print(f'Improved Random Forest MSE: {mse_rf}')\n",
        "print(f'Improved Random Forest R-squared: {r2_rf}')\n",
        "\n",
        "# Adding predicted cash flow values to the data\n",
        "results_rf = pd.DataFrame({\n",
        "    'Actual Cash Flow': y_test,\n",
        "    'Predicted Cash Flow (Random Forest)': y_pred_rf\n",
        "})\n",
        "\n",
        "# Display the first few rows of the predictions\n",
        "print(results_rf.head())\n",
        "\n",
        "# Plotting\n",
        "plt.figure(figsize=(7, 6))\n",
        "plt.scatter(y_test, y_pred_rf, alpha=0.3)\n",
        "plt.plot([y_test.min(), y_test.max()], [y_test.min(), y_test.max()], 'k--', lw=2)\n",
        "plt.xlabel('Actual')\n",
        "plt.ylabel('Predicted')\n",
        "plt.title('Improved Random Forest: Actual vs Predicted')\n",
        "plt.show()\n"
      ]
    }
  ]
}